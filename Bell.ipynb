{
 "cells": [
  {
   "cell_type": "code",
   "execution_count": 1,
   "id": "7d86d22b-ed0a-493f-b2e4-5016de7a5200",
   "metadata": {
    "execution": {
     "iopub.execute_input": "2024-09-01T10:28:18.166050Z",
     "iopub.status.busy": "2024-09-01T10:28:18.165651Z",
     "iopub.status.idle": "2024-09-01T10:28:18.171509Z",
     "shell.execute_reply": "2024-09-01T10:28:18.170465Z",
     "shell.execute_reply.started": "2024-09-01T10:28:18.166009Z"
    }
   },
   "outputs": [],
   "source": [
    "from itertools import product\n",
    "from random import random, randrange\n",
    "from math import pi, sqrt"
   ]
  },
  {
   "cell_type": "code",
   "execution_count": 2,
   "id": "e44441ac-2684-4cca-869b-dce642eef2c9",
   "metadata": {
    "execution": {
     "iopub.execute_input": "2024-09-01T10:28:18.174962Z",
     "iopub.status.busy": "2024-09-01T10:28:18.173698Z",
     "iopub.status.idle": "2024-09-01T10:28:18.181326Z",
     "shell.execute_reply": "2024-09-01T10:28:18.179983Z",
     "shell.execute_reply.started": "2024-09-01T10:28:18.174921Z"
    }
   },
   "outputs": [],
   "source": [
    "def roll_dice():\n",
    "    return randrange(1, 7)\n",
    "\n",
    "def flip_coin(bias=0.5, heads=0, tails=1):\n",
    "    return heads if random() < bias else tails"
   ]
  },
  {
   "cell_type": "code",
   "execution_count": 3,
   "id": "97bd3fe0-c421-44a4-9043-0eeaf1faf5b3",
   "metadata": {
    "execution": {
     "iopub.execute_input": "2024-09-01T10:28:18.183342Z",
     "iopub.status.busy": "2024-09-01T10:28:18.182907Z",
     "iopub.status.idle": "2024-09-01T10:28:18.192033Z",
     "shell.execute_reply": "2024-09-01T10:28:18.190728Z",
     "shell.execute_reply.started": "2024-09-01T10:28:18.183301Z"
    }
   },
   "outputs": [
    {
     "name": "stdout",
     "output_type": "stream",
     "text": [
      "A_H  A_T  B_H  B_T    Bell-sum\n",
      "------------------------------\n",
      " -1   -1   -1   -1    ->     2\n",
      " -1   -1   -1    1    ->     2\n",
      " -1   -1    1   -1    ->    -2\n",
      " -1   -1    1    1    ->    -2\n",
      " -1    1   -1   -1    ->     2\n",
      " -1    1   -1    1    ->    -2\n",
      " -1    1    1   -1    ->     2\n",
      " -1    1    1    1    ->    -2\n",
      "  1   -1   -1   -1    ->    -2\n",
      "  1   -1   -1    1    ->     2\n",
      "  1   -1    1   -1    ->    -2\n",
      "  1   -1    1    1    ->     2\n",
      "  1    1   -1   -1    ->    -2\n",
      "  1    1   -1    1    ->    -2\n",
      "  1    1    1   -1    ->     2\n",
      "  1    1    1    1    ->     2\n"
     ]
    }
   ],
   "source": [
    "def bell_sum(A_H, A_T, B_H, B_T):\n",
    "    return A_H*B_H + A_H*B_T + A_T*B_H - A_T*B_T\n",
    "\n",
    "print('A_H  A_T  B_H  B_T    Bell-sum')\n",
    "print('------------------------------')\n",
    "values = [-1, +1]\n",
    "for A_H, A_T, B_H, B_T in product(values, values, values, values):\n",
    "    print(f' {A_H:2}   {A_T:2}   {B_H:2}   {B_T:2}    ->    {bell_sum(A_H, A_T, B_H, B_T):2}')"
   ]
  },
  {
   "cell_type": "code",
   "execution_count": 4,
   "id": "8db7b930-fc33-41af-8105-d868c8bc7e30",
   "metadata": {
    "execution": {
     "iopub.execute_input": "2024-09-01T10:28:18.194015Z",
     "iopub.status.busy": "2024-09-01T10:28:18.193593Z",
     "iopub.status.idle": "2024-09-01T10:28:18.203433Z",
     "shell.execute_reply": "2024-09-01T10:28:18.202102Z",
     "shell.execute_reply.started": "2024-09-01T10:28:18.193975Z"
    }
   },
   "outputs": [],
   "source": [
    "# version 1 of the bell_experiment() function, where we compute just one sum\n",
    "# this works assuming N is large enough so the 4 cases HH, HT, TH, and TT\n",
    "# all occur roughly N/4 times\n",
    "#\n",
    "def bell_experiment(N):\n",
    "    total = 0\n",
    "    for _ in range(N):\n",
    "        # Generate a composite object and split it\n",
    "        composite = generate_composite()\n",
    "        left, right = split(composite)\n",
    "\n",
    "        # Alice's coin flip determines which measurement device she uses\n",
    "        A_which = flip_coin()\n",
    "        measure_A = measure_A_H if A_which == 0 else measure_A_T\n",
    "        A = measure_A(left)\n",
    "\n",
    "        # Bob's coin flip determines which measurement device he uses\n",
    "        B_which = flip_coin()\n",
    "        measure_B = measure_B_H if B_which == 0 else measure_B_T\n",
    "        B = measure_B(right)\n",
    "\n",
    "        # Compute the contribution to the Bell statistic\n",
    "        multiplier = -1 if A_which == 1 and B_which == 1 else 1\n",
    "        total += multiplier * A * B\n",
    "\n",
    "    # Calculate the Bell statistic and print the result\n",
    "    bell_statistic = 4 * float(total) / N\n",
    "    print(f'Bell Statistic: {bell_statistic:.3}')"
   ]
  },
  {
   "cell_type": "code",
   "execution_count": 5,
   "id": "97eff8bd-82b0-46f5-9efe-70cdb1bf90b1",
   "metadata": {
    "execution": {
     "iopub.execute_input": "2024-09-01T10:28:18.207582Z",
     "iopub.status.busy": "2024-09-01T10:28:18.207158Z",
     "iopub.status.idle": "2024-09-01T10:28:18.219165Z",
     "shell.execute_reply": "2024-09-01T10:28:18.217806Z",
     "shell.execute_reply.started": "2024-09-01T10:28:18.207542Z"
    }
   },
   "outputs": [],
   "source": [
    "# version 2 of the bell_experiment() function, where we maintain four separate sums\n",
    "#\n",
    "def bell_experiment(N):\n",
    "    cnts = [[0, 0], [0, 0]]\n",
    "    sums = [[0, 0], [0, 0]]\n",
    "    for _ in range(N):\n",
    "        # we create some composite system\n",
    "        composite = generate_composite()\n",
    "        # .. and split it in two parts, which we'll label 'left' and 'right'\n",
    "        #    (left and right have no significance, we could equally well call it 1 and 2 or u and w)\n",
    "        left, right = split(composite)\n",
    "        # we send the left part to Alice, right part to Bob\n",
    "        # ..\n",
    "        # Alice flips a coin to decide whether she uses the H or T measurement apparatus\n",
    "        A_which = flip_coin()\n",
    "        measure_A = measure_A_H if A_which == 0 else measure_A_T\n",
    "        # Alice measures her part of the composite system\n",
    "        A = measure_A(left)\n",
    "        # ..\n",
    "        # .. meanwhile\n",
    "        # Bob flips a coin to decide whether he uses the H or T measurement apparatus\n",
    "        B_which = flip_coin()\n",
    "        measure_B = measure_B_H if B_which == 0 else measure_B_T\n",
    "        B = measure_B(right)\n",
    "        # Alice sends back her measurement result A, as well as which measurement device she used, A_which\n",
    "        #   Bob sends back his measurement result B, as well as which measurement device she used, B_which\n",
    "        AB = A*B\n",
    "        # record results in appropriate bucket\n",
    "        cnts[A_which][B_which] += 1\n",
    "        sums[A_which][B_which] += AB\n",
    "    # ...\n",
    "    # experiment is over, compute Bell statistic\n",
    "    # print(sums[0][0], sums[1][0], sums[0][1], sums[1][1])\n",
    "    # print(cnts[0][0], cnts[1][0], cnts[0][1], cnts[1][1])\n",
    "    bell_statistic = (sums[0][0]/cnts[0][0] +\n",
    "                      sums[1][0]/cnts[1][0] +\n",
    "                      sums[0][1]/cnts[0][1] -\n",
    "                      sums[1][1]/cnts[1][1])\n",
    "    print(f'Bell Statistic: {bell_statistic:.3}')"
   ]
  },
  {
   "cell_type": "code",
   "execution_count": 6,
   "id": "585e420c-b4ef-4819-82b8-ce16e4ba0cfa",
   "metadata": {
    "execution": {
     "iopub.execute_input": "2024-09-01T10:28:18.221118Z",
     "iopub.status.busy": "2024-09-01T10:28:18.220539Z",
     "iopub.status.idle": "2024-09-01T10:28:18.766728Z",
     "shell.execute_reply": "2024-09-01T10:28:18.766249Z",
     "shell.execute_reply.started": "2024-09-01T10:28:18.221056Z"
    }
   },
   "outputs": [
    {
     "name": "stdout",
     "output_type": "stream",
     "text": [
      "Bell Statistic: 2.0\n"
     ]
    }
   ],
   "source": [
    "# the measurement functions are constant with signature (1, 1, 1, 1)\n",
    "\n",
    "def generate_composite():\n",
    "    return None, None\n",
    "\n",
    "def split(composite):\n",
    "    left = composite[0]\n",
    "    right = composite[1]\n",
    "    return left, right\n",
    "    \n",
    "def measure_A_H(_):\n",
    "    return 1\n",
    "\n",
    "def measure_A_T(_):\n",
    "    return 1\n",
    "\n",
    "def measure_B_H(_):\n",
    "    return 1\n",
    "    \n",
    "def measure_B_T(_):\n",
    "    return 1\n",
    "\n",
    "bell_experiment(N = 1000*1000)"
   ]
  },
  {
   "cell_type": "code",
   "execution_count": 7,
   "id": "d3157994-c5cd-4570-bb32-11e15133cedd",
   "metadata": {
    "execution": {
     "iopub.execute_input": "2024-09-01T10:28:18.767466Z",
     "iopub.status.busy": "2024-09-01T10:28:18.767315Z",
     "iopub.status.idle": "2024-09-01T10:28:19.248508Z",
     "shell.execute_reply": "2024-09-01T10:28:19.247930Z",
     "shell.execute_reply.started": "2024-09-01T10:28:18.767452Z"
    }
   },
   "outputs": [
    {
     "name": "stdout",
     "output_type": "stream",
     "text": [
      "Bell Statistic: -2.0\n"
     ]
    }
   ],
   "source": [
    "# the measurement functions are constant with signature (1, -1, 1, -1)\n",
    "\n",
    "def measure_A_H(_):\n",
    "    return 1\n",
    "\n",
    "def measure_A_T(_):\n",
    "    return -1\n",
    "\n",
    "def measure_B_H(_):\n",
    "    return 1\n",
    "    \n",
    "def measure_B_T(_):\n",
    "    return -1\n",
    "\n",
    "bell_experiment(N = 1000*1000)"
   ]
  },
  {
   "cell_type": "code",
   "execution_count": 8,
   "id": "8a755ce6-1692-4321-8cdb-3a5aab5f4a3b",
   "metadata": {
    "execution": {
     "iopub.execute_input": "2024-09-01T10:28:19.249231Z",
     "iopub.status.busy": "2024-09-01T10:28:19.249076Z",
     "iopub.status.idle": "2024-09-01T10:28:20.086532Z",
     "shell.execute_reply": "2024-09-01T10:28:20.085934Z",
     "shell.execute_reply.started": "2024-09-01T10:28:19.249215Z"
    }
   },
   "outputs": [
    {
     "name": "stdout",
     "output_type": "stream",
     "text": [
      "Bell Statistic: -0.662\n"
     ]
    }
   ],
   "source": [
    "def generate_composite():\n",
    "    d = roll_dice()\n",
    "    composite = (d, d)\n",
    "    return composite\n",
    "\n",
    "def measure_A_H(q):\n",
    "    result = 1 if q <= 3 else -1\n",
    "    return result\n",
    "\n",
    "def measure_A_T(q):\n",
    "    result = 1 if q % 2 == 0 else -1\n",
    "    return result\n",
    "\n",
    "measure_B_H = measure_A_H\n",
    "measure_B_T = measure_A_T\n",
    "\n",
    "bell_experiment(N = 1000*1000)"
   ]
  },
  {
   "cell_type": "code",
   "execution_count": 9,
   "id": "5b3949f6-e4cc-412c-b081-3aaf648ce22e",
   "metadata": {
    "execution": {
     "iopub.execute_input": "2024-09-01T10:28:20.087338Z",
     "iopub.status.busy": "2024-09-01T10:28:20.087204Z",
     "iopub.status.idle": "2024-09-01T10:28:20.922475Z",
     "shell.execute_reply": "2024-09-01T10:28:20.921905Z",
     "shell.execute_reply.started": "2024-09-01T10:28:20.087325Z"
    }
   },
   "outputs": [
    {
     "name": "stdout",
     "output_type": "stream",
     "text": [
      "Bell Statistic: 2.0\n"
     ]
    }
   ],
   "source": [
    "def generate_composite():\n",
    "    d = roll_dice()\n",
    "    composite = (d, d)\n",
    "    return composite\n",
    "\n",
    "def measure_A_H(q):\n",
    "    result = 1 if q <= 3 else -1\n",
    "    return result\n",
    "\n",
    "def measure_A_T(q):\n",
    "    result = 1 if q % 2 == 0 else -1\n",
    "    return result\n",
    "\n",
    "measure_B_H = measure_A_T\n",
    "measure_B_T = measure_A_H\n",
    "\n",
    "bell_experiment(N = 1000*1000)"
   ]
  },
  {
   "cell_type": "code",
   "execution_count": 10,
   "id": "41d83fa0-5dff-4df6-9b2d-0286b4164946",
   "metadata": {
    "execution": {
     "iopub.execute_input": "2024-09-01T10:28:20.923168Z",
     "iopub.status.busy": "2024-09-01T10:28:20.923033Z",
     "iopub.status.idle": "2024-09-01T10:28:21.800668Z",
     "shell.execute_reply": "2024-09-01T10:28:21.800240Z",
     "shell.execute_reply.started": "2024-09-01T10:28:20.923155Z"
    }
   },
   "outputs": [
    {
     "name": "stdout",
     "output_type": "stream",
     "text": [
      "Bell Statistic: 0.336\n"
     ]
    }
   ],
   "source": [
    "def generate_composite():\n",
    "    d = roll_dice()\n",
    "    composite = (d, d if d <= 4 else flip_coin(heads=5, tails=6))\n",
    "    return composite\n",
    "\n",
    "def measure_A_H(q):\n",
    "    result = 1 if q <= 4 else -1\n",
    "    return result\n",
    "\n",
    "def measure_A_T(q):\n",
    "    result = 1 if q % 2 == 0 else -1\n",
    "    return result\n",
    "\n",
    "measure_B_H = measure_A_H\n",
    "measure_B_T = measure_A_T\n",
    "\n",
    "bell_experiment(N = 1000*1000)"
   ]
  },
  {
   "cell_type": "code",
   "execution_count": 11,
   "id": "4bbf6f15-d9a7-4200-bf2f-194332dfff4f",
   "metadata": {
    "execution": {
     "iopub.execute_input": "2024-09-01T10:28:21.801339Z",
     "iopub.status.busy": "2024-09-01T10:28:21.801196Z",
     "iopub.status.idle": "2024-09-01T10:28:22.678890Z",
     "shell.execute_reply": "2024-09-01T10:28:22.678457Z",
     "shell.execute_reply.started": "2024-09-01T10:28:21.801326Z"
    }
   },
   "outputs": [
    {
     "name": "stdout",
     "output_type": "stream",
     "text": [
      "Bell Statistic: 1.66\n"
     ]
    }
   ],
   "source": [
    "measure_B_H = measure_A_T\n",
    "measure_B_T = measure_A_H\n",
    "\n",
    "bell_experiment(N = 1000*1000)"
   ]
  },
  {
   "cell_type": "code",
   "execution_count": 12,
   "id": "1ccff0e1-9153-4b36-a8e0-f7c9e5dc4289",
   "metadata": {
    "execution": {
     "iopub.execute_input": "2024-09-01T10:28:22.679588Z",
     "iopub.status.busy": "2024-09-01T10:28:22.679445Z",
     "iopub.status.idle": "2024-09-01T10:28:23.603877Z",
     "shell.execute_reply": "2024-09-01T10:28:23.603449Z",
     "shell.execute_reply.started": "2024-09-01T10:28:22.679575Z"
    }
   },
   "outputs": [
    {
     "name": "stdout",
     "output_type": "stream",
     "text": [
      "Bell Statistic: 0.665\n"
     ]
    }
   ],
   "source": [
    "# introducing randomness in Bob's measurement function\n",
    "# this no longer simulates a DETERMINISTIC local hidden variable theory\n",
    "# but it still cannot break the Bell inequality\n",
    "\n",
    "def generate_composite():\n",
    "    d = roll_dice()\n",
    "    composite = (d, d if d <= 4 else flip_coin(heads=5, tails=6))\n",
    "    return composite\n",
    "\n",
    "def measure_A_H(q):\n",
    "    result = 1 if q <= 4 else -1\n",
    "    return result\n",
    "\n",
    "def measure_A_T(q):\n",
    "    result = 1 if q % 2 == 0 else -1\n",
    "    return result\n",
    "\n",
    "measure_B_H = measure_A_T\n",
    "\n",
    "def measure_B_T(q):\n",
    "    result = flip_coin(heads=1, tails=-1)\n",
    "    return result\n",
    "\n",
    "bell_experiment(N = 1000*1000)"
   ]
  },
  {
   "cell_type": "code",
   "execution_count": 13,
   "id": "74c065ca-6ae8-4012-964b-614dd7fd3506",
   "metadata": {
    "execution": {
     "iopub.execute_input": "2024-09-01T10:28:23.604548Z",
     "iopub.status.busy": "2024-09-01T10:28:23.604410Z",
     "iopub.status.idle": "2024-09-01T10:28:24.973441Z",
     "shell.execute_reply": "2024-09-01T10:28:24.972824Z",
     "shell.execute_reply.started": "2024-09-01T10:28:23.604536Z"
    }
   },
   "outputs": [
    {
     "name": "stdout",
     "output_type": "stream",
     "text": [
      "Bell Statistic: 4.0\n"
     ]
    }
   ],
   "source": [
    "def generate_composite():\n",
    "    d = roll_dice()\n",
    "    composite = (d, d if d <= 4 else flip_coin(heads=5, tails=6))\n",
    "    return composite\n",
    "\n",
    "def split(composite):\n",
    "    left  = {'value': composite[0]}\n",
    "    right = {'value': composite[1]}\n",
    "    # we enable both left and right parts to peek at each other\n",
    "    # in physics, this is called action-at-a-distance\n",
    "    left['other'] = right\n",
    "    right['other'] = left\n",
    "    return left, right\n",
    "\n",
    "def measure_A_H(q):\n",
    "    # the particle remembers which measurement was performed and what the result was\n",
    "    # in itself, this is not cheating\n",
    "    q['measure'] = 'H'\n",
    "    q['result'] = 1 if q['value'] <= 4 else -1\n",
    "    return q['result']\n",
    "\n",
    "def measure_A_T(q):\n",
    "    q['measure'] = 'T'\n",
    "    q['result'] = 1 if q['value'] % 2 == 0 else -1\n",
    "    return q['result']\n",
    "\n",
    "def measure_B_H(q):\n",
    "    # always return what Alice measured\n",
    "    q['result'] = q['other']['result']\n",
    "    return q['result']\n",
    "\n",
    "def measure_B_T(q):\n",
    "    # condition on which measurement Alice performced and use her result\n",
    "    q['result'] = q['other']['result'] if q['other']['measure'] == 'H' else -1*q['other']['result']\n",
    "    return q['result']\n",
    "\n",
    "bell_experiment(N = 1000*1000)"
   ]
  },
  {
   "cell_type": "code",
   "execution_count": 14,
   "id": "0514c575-5bb8-4d72-b81b-4d666c21337f",
   "metadata": {
    "execution": {
     "iopub.execute_input": "2024-09-01T10:28:24.975762Z",
     "iopub.status.busy": "2024-09-01T10:28:24.975622Z",
     "iopub.status.idle": "2024-09-01T10:28:26.215232Z",
     "shell.execute_reply": "2024-09-01T10:28:26.214631Z",
     "shell.execute_reply.started": "2024-09-01T10:28:24.975748Z"
    }
   },
   "outputs": [
    {
     "name": "stdout",
     "output_type": "stream",
     "text": [
      "Bell Statistic: 2.83\n"
     ]
    }
   ],
   "source": [
    "def generate_composite():\n",
    "    # we generate pairs of particles with anti-aligned spins in the singlet state\n",
    "    # the line of code below doesn't matter, it's just for documentation\n",
    "    return {'state': '(|01>-|10>)/√2'}\n",
    "    # |0> is the eigenstate of the Pauli operator σ_z corresponding to eigenvalue (=measurement outcome) +1\n",
    "    # |1> is the eigenstate of the Pauli operator σ_z corresponding to eigenvalue (=measurement outcome) -1\n",
    "    # |+> is the eigenstate of the Pauli operator σ_x corresponding to eigenvalue (=measurement outcome) +1\n",
    "    # |-> is the eigenstate of the Pauli operator σ_x corresponding to eigenvalue (=measurement outcome) -1\n",
    "    # the above state can be rewritten in terms of |+> and |->, like:\n",
    "    # (|01>-|10>)/√2  =  (|-+>-|+->)/√2\n",
    "    \n",
    "def split(composite):\n",
    "    # in quantum mechanics, there is no sense to talk about a left and right\n",
    "    # value (before measurement) of a singlet composite system..\n",
    "    left  = {'value': None}\n",
    "    right = {'value': None}\n",
    "    # we enable both left and right parts to peek at each other\n",
    "    # in physics, this is called action-at-a-distance\n",
    "    left['other'] = right\n",
    "    right['other'] = left\n",
    "    return left, right\n",
    "\n",
    "def measure_first_qubit(q, orientation):\n",
    "    q['measure'] = orientation\n",
    "    # Alice measures using σ_z or σ_x\n",
    "    # in both cases, the amplitudes of the 2 possible states are equal = 1/√2,\n",
    "    # so the probability of both measurement outcomes is 1/2\n",
    "    # but the post-measurement state is not the same in the 4 cases (2 measurements, each 2 outcomes ±1\n",
    "    # if Alice uses σ_z and measures +1 on the first qubit, the post measurement state of the composite system is |01>\n",
    "    # if Alice uses σ_z and measures -1 on the first qubit, the post measurement state of the composite system is |10>\n",
    "    # if Alice uses σ_x and measures +1 on the first qubit, the post measurement state of the composite system is |+->\n",
    "    # if Alice uses σ_x and measures -1 on the first qubit, the post measurement state of the composite system is |-+>\n",
    "    q['result'] = flip_coin(heads=1, tails=-1)\n",
    "    return q['result']\n",
    "\n",
    "measure_A_H = lambda q: measure_first_qubit(q, 'H') # Alice uses the Pauli operator σ_z to measure the first qubit\n",
    "measure_A_T = lambda q: measure_first_qubit(q, 'T') # Alice uses the Pauli operator σ_x to measure the first qubit\n",
    "\n",
    "p = 1/(4-2*sqrt(2))\n",
    "def measure_second_qubit(q, orientation):\n",
    "    # Bob's H corresponds to using the operator -(σ_x+σ_z)/√2 to measure the second qubit\n",
    "    # Bob's T corresponds to using the operator  (σ_x-σ_z)/√2 to measure the second qubit\n",
    "    # the math here is straightforward quantum theory:\n",
    "    # let's look at an example:\n",
    "    # suppose Alice flipped a coin and used σ_z (which we labeled Alice's H) and measured +1 on the first qubit, leaving the composite system in the state |01>\n",
    "    # suppose that now Bob flips a coin and uses -(σ_x+σ_z)/√2 (which we labeled Bob's H):\n",
    "    # the challenge now is to express the composite state |01> in terms of the eigenvectors of Bob's measurement operator -(σ_x+σ_z)/√2\n",
    "    # suppose the 2 eigenvectors are U and V with eigenvalues +1 and -1, and we can write |01> = u*|U> + v*|V>, where u and v are the complex amplitudes\n",
    "    # this can be done on a piece of paper, to find u, v, U, V, and then the probabilities of outcome +1 is p=u^2 and -1 is 1-p=v^2=1-u^2\n",
    "    # .. where p is the number defined above p = 1/(4-2*sqrt(2)), because I did the math on paper\n",
    "    # there are 16 combinations of Alice and Bob measurements and outcomes (2 people, each 2 measurements, each measurement 2 outcomes)\n",
    "    # .. which can be neatly written into a table, and the probability is always p or 1-p\n",
    "    # see:\n",
    "    #     https://docs.google.com/spreadsheets/d/1MfsGAqPoN1gK5iA3veipgoaSQ_mhqOL4bLhfYCqy_Sk\n",
    "    # \n",
    "    # the code below encodes this table\n",
    "    q['measure'] = orientation\n",
    "    sign = 1 if orientation == 'H' or q['other']['measure'] != orientation else -1\n",
    "    if q['other']['result'] == 1:\n",
    "        q['result'] = sign * flip_coin(p, 1, -1)\n",
    "    else:\n",
    "        q['result'] = sign * flip_coin(p, -1, 1)\n",
    "    return q['result']\n",
    "\n",
    "measure_B_H = lambda q: measure_second_qubit(q, 'H')\n",
    "measure_B_T = lambda q: measure_second_qubit(q, 'T')\n",
    "\n",
    "bell_experiment(N = 1000*1000)"
   ]
  },
  {
   "cell_type": "code",
   "execution_count": null,
   "id": "508bce30-ae05-42d6-88d1-186f5f8b775e",
   "metadata": {},
   "outputs": [],
   "source": []
  }
 ],
 "metadata": {
  "kernelspec": {
   "display_name": "Python 3 (ipykernel)",
   "language": "python",
   "name": "python3"
  },
  "language_info": {
   "codemirror_mode": {
    "name": "ipython",
    "version": 3
   },
   "file_extension": ".py",
   "mimetype": "text/x-python",
   "name": "python",
   "nbconvert_exporter": "python",
   "pygments_lexer": "ipython3",
   "version": "3.11.7"
  }
 },
 "nbformat": 4,
 "nbformat_minor": 5
}
