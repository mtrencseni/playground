{
 "cells": [
  {
   "cell_type": "code",
   "execution_count": 1,
   "id": "8d208d65-b927-4e28-b0b5-3a6609058091",
   "metadata": {
    "execution": {
     "iopub.execute_input": "2024-06-02T16:52:05.009241Z",
     "iopub.status.busy": "2024-06-02T16:52:05.008100Z",
     "iopub.status.idle": "2024-06-02T16:52:05.016585Z",
     "shell.execute_reply": "2024-06-02T16:52:05.015388Z",
     "shell.execute_reply.started": "2024-06-02T16:52:05.009175Z"
    }
   },
   "outputs": [],
   "source": [
    "from random import random\n",
    "from struct import unpack\n",
    "from os import urandom as urandom\n",
    "from collections import defaultdict\n",
    "from abc import ABC, abstractmethod\n",
    "from typing import Dict, Tuple, Optional"
   ]
  },
  {
   "cell_type": "code",
   "execution_count": 2,
   "id": "e0883dd1-f84c-43ce-9bea-619af4e311e0",
   "metadata": {
    "execution": {
     "iopub.execute_input": "2024-06-02T16:52:05.020538Z",
     "iopub.status.busy": "2024-06-02T16:52:05.019890Z",
     "iopub.status.idle": "2024-06-02T16:52:05.372246Z",
     "shell.execute_reply": "2024-06-02T16:52:05.371434Z",
     "shell.execute_reply.started": "2024-06-02T16:52:05.020476Z"
    }
   },
   "outputs": [],
   "source": [
    "#\n",
    "# clone this repo: https://github.com/stevenang/randomness_testsuite\n",
    "# and put this file into the folder for the below imports to work..\n",
    "#\n",
    "from FrequencyTest import FrequencyTest\n",
    "from RunTest import RunTest\n",
    "from Matrix import Matrix\n",
    "from Spectral import SpectralTest\n",
    "from TemplateMatching import TemplateMatching\n",
    "from Universal import Universal\n",
    "from Complexity import ComplexityTest\n",
    "from Serial import Serial\n",
    "from ApproximateEntropy import ApproximateEntropy\n",
    "from CumulativeSum import CumulativeSums\n",
    "from RandomExcursions import RandomExcursions"
   ]
  },
  {
   "cell_type": "code",
   "execution_count": 3,
   "id": "8eb83297-90ee-4848-a3de-a533002d6ca4",
   "metadata": {
    "execution": {
     "iopub.execute_input": "2024-06-02T16:52:05.373728Z",
     "iopub.status.busy": "2024-06-02T16:52:05.373415Z",
     "iopub.status.idle": "2024-06-02T16:52:05.391352Z",
     "shell.execute_reply": "2024-06-02T16:52:05.390625Z",
     "shell.execute_reply.started": "2024-06-02T16:52:05.373702Z"
    }
   },
   "outputs": [],
   "source": [
    "def print_bits(input_bit, output_bit):\n",
    "    pass\n",
    "    #print(input_bit, output_bit if output_bit is not None else '.')\n",
    "\n",
    "\n",
    "class RandomGenerator:\n",
    "    def __init__(self):\n",
    "        self.bit_cache = []\n",
    "        self.byte_cache = []\n",
    "        self.cache_size = 128  # Number of bytes to retrieve at a time\n",
    "\n",
    "    def _fill_bit_cache(self):\n",
    "        random_bytes = urandom(self.cache_size)\n",
    "        self.bit_cache = [\n",
    "            (byte >> i) & 1\n",
    "            for byte in random_bytes\n",
    "            for i in range(8)\n",
    "        ]\n",
    "\n",
    "    def _fill_byte_cache(self):\n",
    "        self.byte_cache = list(urandom(self.cache_size))\n",
    "\n",
    "    def random_bit(self) -> int:\n",
    "        if not self.bit_cache:\n",
    "            self._fill_bit_cache()\n",
    "        return self.bit_cache.pop(0)\n",
    "\n",
    "    def random_float(self) -> float:\n",
    "        if not self.byte_cache:\n",
    "            self._fill_byte_cache()\n",
    "        random_bytes = bytes(self.byte_cache[:8])\n",
    "        self.byte_cache = self.byte_cache[8:]\n",
    "        random_float = unpack('>Q', random_bytes)[0] / (1 << 64)\n",
    "        return random_float\n",
    "\n",
    "\n",
    "rg = RandomGenerator()\n",
    "\n",
    "def random_bit() -> int:\n",
    "    return rg.random_bit()\n",
    "\n",
    "def random_float() -> float:\n",
    "    return rg.random_float()\n",
    "\n",
    "\n",
    "class BitSource(ABC):\n",
    "    @abstractmethod\n",
    "    def next(self) -> int:\n",
    "        pass\n",
    "\n",
    "\n",
    "class RandomnessExtractor(ABC):\n",
    "    @abstractmethod\n",
    "    def next(self) -> Optional[int]:\n",
    "        pass\n",
    "\n",
    "    def random(self) -> int:\n",
    "        result = None\n",
    "        while result is None:\n",
    "            result = self.next()\n",
    "        return result\n",
    "\n",
    "\n",
    "class BiasedBitSource(BitSource):\n",
    "    def __init__(self, bias=None):\n",
    "        if bias is None:\n",
    "            bias = random_float()\n",
    "        self.bias = bias\n",
    "\n",
    "    def next(self) -> int:\n",
    "        if random_float() < self.bias:\n",
    "            return 0\n",
    "        else:\n",
    "            return 1\n",
    "\n",
    "\n",
    "class VaryingBiasedBitSource(BitSource):\n",
    "    def __init__(self, min_cutoff=0, max_cutoff=1):\n",
    "        self.min_cutoff = min_cutoff\n",
    "        self.max_cutoff = max_cutoff\n",
    "        self.bias = random_float()\n",
    "\n",
    "    def next_bias(self, draw):\n",
    "        bias = draw**2\n",
    "        if random_bit() == 0:\n",
    "            bias = 1 - bias\n",
    "        bias = max(self.min_cutoff, bias)\n",
    "        bias = min(self.max_cutoff, bias)\n",
    "        return bias\n",
    "\n",
    "    def next(self) -> int:\n",
    "        draw = random_float()\n",
    "        if draw < self.bias:\n",
    "            result = 0\n",
    "        else:\n",
    "            result = 1\n",
    "        self.bias = self.next_bias(draw)\n",
    "        return result\n",
    "\n",
    "\n",
    "class PassthroughExtractor(RandomnessExtractor):\n",
    "    def __init__(self, bit_source: BitSource):\n",
    "        self.bit_source = bit_source\n",
    "        self.bits = []\n",
    "\n",
    "    def next(self) -> Optional[int]:\n",
    "        bit = self.bit_source.next()\n",
    "        result = bit\n",
    "        print_bits(bit, result)\n",
    "        return result\n",
    "\n",
    "\n",
    "class VonNeumannExtractor(RandomnessExtractor):\n",
    "    def __init__(self, bit_source: BitSource):\n",
    "        self.bit_source = bit_source\n",
    "        self.bits = []\n",
    "\n",
    "    def next(self) -> Optional[int]:\n",
    "        bit = self.bit_source.next()\n",
    "        if bit not in [0, 1]:\n",
    "            raise ValueError(\"Bit must be 0 or 1.\")\n",
    "        self.bits.append(bit)\n",
    "        result = None\n",
    "        if len(self.bits) == 2:\n",
    "            if self.bits == [0, 1]:\n",
    "                result = 1\n",
    "            elif self.bits == [1, 0]:\n",
    "                result = 0\n",
    "            self.bits = []  # Reset for the next pair of bits\n",
    "        print_bits(bit, result)\n",
    "        return result\n",
    "\n",
    "\n",
    "class ParityExtractor(RandomnessExtractor):\n",
    "    def __init__(self, bit_source: BitSource, N: int):\n",
    "        self.bit_source = bit_source\n",
    "        if N <= 0:\n",
    "            raise ValueError(\"N must be a positive integer.\")\n",
    "        self.N = N\n",
    "        self.bits = []\n",
    "\n",
    "    def next(self) -> Optional[int]:\n",
    "        bit = self.bit_source.next()\n",
    "        if bit not in [0, 1]:\n",
    "            raise ValueError(\"Bit must be 0 or 1.\")\n",
    "        self.bits.append(bit)\n",
    "        result = None\n",
    "        if len(self.bits) == self.N:\n",
    "            result = sum(self.bits) % 2\n",
    "            self.bits = []  # Reset for the next block of N bits\n",
    "        print_bits(bit, result)\n",
    "        return result\n",
    "\n",
    "\n",
    "class MarkovChainBitSource(BitSource):\n",
    "    def __init__(self, start_state: str):\n",
    "        self.current_state = start_state\n",
    "    \n",
    "    @abstractmethod\n",
    "    def get_transitions(self, state: str) -> Dict[int, Tuple[str, float]]:\n",
    "        pass\n",
    "\n",
    "    def next(self) -> int:\n",
    "        transitions = self.get_transitions(self.current_state)\n",
    "        rand = random_float()\n",
    "        cumulative_probability = 0.0\n",
    "        for bit, (next_state, probability) in transitions.items():\n",
    "            cumulative_probability += probability\n",
    "            if rand < cumulative_probability:\n",
    "                self.current_state = next_state\n",
    "                return bit\n",
    "        raise RuntimeError(\"Probabilities do not sum to 1.\")\n",
    "\n",
    "\n",
    "class BlumExtractor(RandomnessExtractor):\n",
    "    def __init__(self, bit_source: MarkovChainBitSource):\n",
    "        self.bit_source = bit_source\n",
    "        self.state_bits = defaultdict(list)  # Stores the last bits for each state\n",
    "\n",
    "    def next(self) -> Optional[int]:\n",
    "        current_state = self.bit_source.current_state\n",
    "        bit = self.bit_source.next()\n",
    "        self.state_bits[current_state].append(bit)\n",
    "        result = None\n",
    "        if len(self.state_bits[current_state]) == 2:\n",
    "            bits = self.state_bits[current_state]\n",
    "            if bits == [0, 1]:\n",
    "                result = 1\n",
    "            elif bits == [1, 0]:\n",
    "                result = 0\n",
    "            self.state_bits[current_state] = []\n",
    "        print_bits(bit, result)\n",
    "        return result\n",
    "\n",
    "class ExampleMarkovChainBitSource(MarkovChainBitSource):\n",
    "    def __init__(self):\n",
    "        super().__init__(start_state='A')\n",
    "        self.transitions = {\n",
    "            'A': {0: ('B', 0.5), 1: ('C', 0.5)},\n",
    "            'B': {0: ('A', 0.7), 1: ('C', 0.3)},\n",
    "            'C': {0: ('A', 0.4), 1: ('B', 0.6)},\n",
    "        }\n",
    "    \n",
    "    def get_transitions(self, state: str) -> Dict[int, Tuple[str, float]]:\n",
    "        return self.transitions[state]"
   ]
  },
  {
   "cell_type": "code",
   "execution_count": 4,
   "id": "c396ab7e-5d24-46d3-8595-b36b5bc3e7aa",
   "metadata": {
    "execution": {
     "iopub.execute_input": "2024-06-02T16:52:05.392241Z",
     "iopub.status.busy": "2024-06-02T16:52:05.392083Z",
     "iopub.status.idle": "2024-06-02T16:52:05.397343Z",
     "shell.execute_reply": "2024-06-02T16:52:05.396784Z",
     "shell.execute_reply.started": "2024-06-02T16:52:05.392224Z"
    }
   },
   "outputs": [],
   "source": [
    "def run_tests(r):\n",
    "    funcs = [\n",
    "        FrequencyTest.monobit_test,\n",
    "        FrequencyTest.block_frequency,\n",
    "        RunTest.run_test,\n",
    "        RunTest.longest_one_block_test,\n",
    "        Matrix.binary_matrix_rank_text,\n",
    "        SpectralTest.spectral_test,\n",
    "        TemplateMatching.non_overlapping_test,\n",
    "        TemplateMatching.overlapping_patterns,\n",
    "        Universal.statistical_test,\n",
    "        ComplexityTest.linear_complexity_test,\n",
    "        lambda r: Serial.serial_test(r)[0] and Serial.serial_test(r)[1],\n",
    "        ApproximateEntropy.approximate_entropy_test,\n",
    "        lambda r: CumulativeSums.cumulative_sums_test(r, 0),\n",
    "        lambda r: CumulativeSums.cumulative_sums_test(r, 1),\n",
    "        #RandomExcursions.random_excursions_test,\n",
    "        #RandomExcursions.variant_test,\n",
    "    ]\n",
    "    num_passed = 0\n",
    "    for f in funcs:\n",
    "        result = f(r)\n",
    "        #print(result)\n",
    "        num_passed += int(result[1])\n",
    "    passed = (num_passed >= 10)\n",
    "    if passed:\n",
    "        print(f'PASSED: The bit sequence appears to be a sequence of independent fair coin tosses ({num_passed}/{len(funcs)} passed) ✅')\n",
    "    else:\n",
    "        print(f'FAILED: The bit sequence does not appear to be a sequence of independent fair coin tosses ({num_passed}/{len(funcs)} passed) ❌')"
   ]
  },
  {
   "cell_type": "code",
   "execution_count": 5,
   "id": "60dab2a4-6713-4b57-9879-2c1a0690b9ba",
   "metadata": {
    "execution": {
     "iopub.execute_input": "2024-06-02T16:52:05.399459Z",
     "iopub.status.busy": "2024-06-02T16:52:05.399231Z",
     "iopub.status.idle": "2024-06-02T16:52:05.402239Z",
     "shell.execute_reply": "2024-06-02T16:52:05.401762Z",
     "shell.execute_reply.started": "2024-06-02T16:52:05.399445Z"
    }
   },
   "outputs": [],
   "source": [
    "N = 8*1024"
   ]
  },
  {
   "cell_type": "code",
   "execution_count": 6,
   "id": "93e23a47-9275-4940-a288-6c54e92557dd",
   "metadata": {
    "execution": {
     "iopub.execute_input": "2024-06-02T16:52:05.402927Z",
     "iopub.status.busy": "2024-06-02T16:52:05.402774Z",
     "iopub.status.idle": "2024-06-02T16:52:05.536067Z",
     "shell.execute_reply": "2024-06-02T16:52:05.535371Z",
     "shell.execute_reply.started": "2024-06-02T16:52:05.402912Z"
    }
   },
   "outputs": [
    {
     "name": "stdout",
     "output_type": "stream",
     "text": [
      "FAILED: The bit sequence does not appear to be a sequence of independent fair coin tosses (2/14 passed) ❌\n"
     ]
    }
   ],
   "source": [
    "r = ''.join(['0' for _ in range(N)])\n",
    "run_tests(r)"
   ]
  },
  {
   "cell_type": "code",
   "execution_count": 7,
   "id": "3f5dbbec-0326-4355-b169-fda7c21237f7",
   "metadata": {
    "execution": {
     "iopub.execute_input": "2024-06-02T16:52:05.537107Z",
     "iopub.status.busy": "2024-06-02T16:52:05.536867Z",
     "iopub.status.idle": "2024-06-02T16:52:05.912471Z",
     "shell.execute_reply": "2024-06-02T16:52:05.911875Z",
     "shell.execute_reply.started": "2024-06-02T16:52:05.537076Z"
    }
   },
   "outputs": [
    {
     "name": "stdout",
     "output_type": "stream",
     "text": [
      "PASSED: The bit sequence appears to be a sequence of independent fair coin tosses (12/14 passed) ✅\n"
     ]
    }
   ],
   "source": [
    "r = ''.join([str(round(random())) for _ in range(N)])\n",
    "run_tests(r)"
   ]
  },
  {
   "cell_type": "code",
   "execution_count": 8,
   "id": "daab54b8-88a0-4059-97ea-03c1daf562fa",
   "metadata": {
    "execution": {
     "iopub.execute_input": "2024-06-02T16:52:05.913410Z",
     "iopub.status.busy": "2024-06-02T16:52:05.913173Z",
     "iopub.status.idle": "2024-06-02T16:52:06.274997Z",
     "shell.execute_reply": "2024-06-02T16:52:06.274414Z",
     "shell.execute_reply.started": "2024-06-02T16:52:05.913387Z"
    }
   },
   "outputs": [
    {
     "name": "stdout",
     "output_type": "stream",
     "text": [
      "PASSED: The bit sequence appears to be a sequence of independent fair coin tosses (13/14 passed) ✅\n"
     ]
    }
   ],
   "source": [
    "r = ''.join([str(random_bit()) for _ in range(N)])\n",
    "run_tests(r)"
   ]
  },
  {
   "cell_type": "code",
   "execution_count": 9,
   "id": "06238842-bf9c-45f0-a17b-ba4c6a81010e",
   "metadata": {
    "execution": {
     "iopub.execute_input": "2024-06-02T16:52:06.275802Z",
     "iopub.status.busy": "2024-06-02T16:52:06.275658Z",
     "iopub.status.idle": "2024-06-02T16:52:06.602669Z",
     "shell.execute_reply": "2024-06-02T16:52:06.602092Z",
     "shell.execute_reply.started": "2024-06-02T16:52:06.275788Z"
    }
   },
   "outputs": [
    {
     "name": "stdout",
     "output_type": "stream",
     "text": [
      "FAILED: The bit sequence does not appear to be a sequence of independent fair coin tosses (3/14 passed) ❌\n"
     ]
    }
   ],
   "source": [
    "bit_source = BiasedBitSource(0.9)\n",
    "\n",
    "r = ''.join([str(bit_source.next()) for _ in range(N)])\n",
    "run_tests(r)"
   ]
  },
  {
   "cell_type": "code",
   "execution_count": 10,
   "id": "208431f8-486d-4973-83bf-649fca3532b1",
   "metadata": {
    "execution": {
     "iopub.execute_input": "2024-06-02T16:52:06.603417Z",
     "iopub.status.busy": "2024-06-02T16:52:06.603274Z",
     "iopub.status.idle": "2024-06-02T16:52:07.064946Z",
     "shell.execute_reply": "2024-06-02T16:52:07.064339Z",
     "shell.execute_reply.started": "2024-06-02T16:52:06.603403Z"
    }
   },
   "outputs": [
    {
     "name": "stdout",
     "output_type": "stream",
     "text": [
      "PASSED: The bit sequence appears to be a sequence of independent fair coin tosses (13/14 passed) ✅\n"
     ]
    }
   ],
   "source": [
    "bit_source = BiasedBitSource(0.9)\n",
    "extractor = VonNeumannExtractor(bit_source)\n",
    "\n",
    "r = ''.join([str(extractor.random()) for _ in range(N)])\n",
    "run_tests(r)"
   ]
  },
  {
   "cell_type": "code",
   "execution_count": 11,
   "id": "8c0a6f2e-430b-48c0-b507-dcd048e4a0f1",
   "metadata": {
    "execution": {
     "iopub.execute_input": "2024-06-02T16:52:07.066129Z",
     "iopub.status.busy": "2024-06-02T16:52:07.065905Z",
     "iopub.status.idle": "2024-06-02T16:52:07.416398Z",
     "shell.execute_reply": "2024-06-02T16:52:07.415929Z",
     "shell.execute_reply.started": "2024-06-02T16:52:07.066108Z"
    }
   },
   "outputs": [
    {
     "name": "stdout",
     "output_type": "stream",
     "text": [
      "FAILED: The bit sequence does not appear to be a sequence of independent fair coin tosses (7/14 passed) ❌\n"
     ]
    }
   ],
   "source": [
    "bit_source = VaryingBiasedBitSource(min_cutoff=0.1, max_cutoff=0.7)\n",
    "\n",
    "r = ''.join([str(bit_source.next()) for _ in range(N)])\n",
    "run_tests(r)"
   ]
  },
  {
   "cell_type": "code",
   "execution_count": 12,
   "id": "4eb5089c-8b89-466f-9749-63f0aa8bcf61",
   "metadata": {
    "execution": {
     "iopub.execute_input": "2024-06-02T16:52:07.417143Z",
     "iopub.status.busy": "2024-06-02T16:52:07.416991Z",
     "iopub.status.idle": "2024-06-02T16:52:07.840542Z",
     "shell.execute_reply": "2024-06-02T16:52:07.839961Z",
     "shell.execute_reply.started": "2024-06-02T16:52:07.417129Z"
    }
   },
   "outputs": [
    {
     "name": "stdout",
     "output_type": "stream",
     "text": [
      "PASSED: The bit sequence appears to be a sequence of independent fair coin tosses (13/14 passed) ✅\n"
     ]
    }
   ],
   "source": [
    "bit_source = VaryingBiasedBitSource(min_cutoff=0.1, max_cutoff=0.7)\n",
    "extractor = ParityExtractor(bit_source=bit_source, N=4)\n",
    "\n",
    "r = ''.join([str(extractor.random()) for _ in range(N)])\n",
    "run_tests(r)"
   ]
  },
  {
   "cell_type": "code",
   "execution_count": 13,
   "id": "583476c9-29f3-4533-b32d-e3cb696b68a4",
   "metadata": {
    "execution": {
     "iopub.execute_input": "2024-06-02T16:52:07.841268Z",
     "iopub.status.busy": "2024-06-02T16:52:07.841120Z",
     "iopub.status.idle": "2024-06-02T16:52:08.188651Z",
     "shell.execute_reply": "2024-06-02T16:52:08.188201Z",
     "shell.execute_reply.started": "2024-06-02T16:52:07.841254Z"
    }
   },
   "outputs": [
    {
     "name": "stdout",
     "output_type": "stream",
     "text": [
      "FAILED: The bit sequence does not appear to be a sequence of independent fair coin tosses (5/14 passed) ❌\n"
     ]
    }
   ],
   "source": [
    "bit_source = ExampleMarkovChainBitSource()\n",
    "\n",
    "r = ''.join([str(bit_source.next()) for _ in range(N)])\n",
    "run_tests(r)"
   ]
  },
  {
   "cell_type": "code",
   "execution_count": 14,
   "id": "71bfcf4c-f767-4891-855e-fdd131775c4a",
   "metadata": {
    "execution": {
     "iopub.execute_input": "2024-06-02T16:52:08.191248Z",
     "iopub.status.busy": "2024-06-02T16:52:08.191098Z",
     "iopub.status.idle": "2024-06-02T16:52:08.619876Z",
     "shell.execute_reply": "2024-06-02T16:52:08.619162Z",
     "shell.execute_reply.started": "2024-06-02T16:52:08.191234Z"
    }
   },
   "outputs": [
    {
     "name": "stdout",
     "output_type": "stream",
     "text": [
      "PASSED: The bit sequence appears to be a sequence of independent fair coin tosses (10/14 passed) ✅\n"
     ]
    }
   ],
   "source": [
    "bit_source = ExampleMarkovChainBitSource()\n",
    "extractor = VonNeumannExtractor(bit_source)\n",
    "\n",
    "r = ''.join([str(extractor.random()) for _ in range(N)])\n",
    "run_tests(r)"
   ]
  },
  {
   "cell_type": "code",
   "execution_count": 15,
   "id": "9731cfe4-8626-4e48-89b2-d7b71d3a0783",
   "metadata": {
    "execution": {
     "iopub.execute_input": "2024-06-02T16:52:08.620710Z",
     "iopub.status.busy": "2024-06-02T16:52:08.620567Z",
     "iopub.status.idle": "2024-06-02T16:52:09.058104Z",
     "shell.execute_reply": "2024-06-02T16:52:09.057407Z",
     "shell.execute_reply.started": "2024-06-02T16:52:08.620696Z"
    }
   },
   "outputs": [
    {
     "name": "stdout",
     "output_type": "stream",
     "text": [
      "PASSED: The bit sequence appears to be a sequence of independent fair coin tosses (13/14 passed) ✅\n"
     ]
    }
   ],
   "source": [
    "bit_source = ExampleMarkovChainBitSource()\n",
    "extractor = ParityExtractor(bit_source=bit_source, N=8)\n",
    "\n",
    "r = ''.join([str(extractor.random()) for _ in range(N)])\n",
    "run_tests(r)"
   ]
  },
  {
   "cell_type": "code",
   "execution_count": 16,
   "id": "9778cfab-ef39-4d0d-8102-0d8a12b71ea8",
   "metadata": {
    "execution": {
     "iopub.execute_input": "2024-06-02T16:52:09.058916Z",
     "iopub.status.busy": "2024-06-02T16:52:09.058773Z",
     "iopub.status.idle": "2024-06-02T16:52:09.454339Z",
     "shell.execute_reply": "2024-06-02T16:52:09.453647Z",
     "shell.execute_reply.started": "2024-06-02T16:52:09.058902Z"
    }
   },
   "outputs": [
    {
     "name": "stdout",
     "output_type": "stream",
     "text": [
      "PASSED: The bit sequence appears to be a sequence of independent fair coin tosses (12/14 passed) ✅\n"
     ]
    }
   ],
   "source": [
    "bit_source = ExampleMarkovChainBitSource()\n",
    "extractor = BlumExtractor(bit_source)\n",
    "\n",
    "r = ''.join([str(extractor.random()) for _ in range(N)])\n",
    "run_tests(r)"
   ]
  },
  {
   "cell_type": "code",
   "execution_count": 17,
   "id": "70c07de8-2923-4fb9-abf4-c4e9b09f0822",
   "metadata": {
    "execution": {
     "iopub.execute_input": "2024-06-02T16:52:09.455082Z",
     "iopub.status.busy": "2024-06-02T16:52:09.454933Z",
     "iopub.status.idle": "2024-06-02T16:52:09.459448Z",
     "shell.execute_reply": "2024-06-02T16:52:09.458763Z",
     "shell.execute_reply.started": "2024-06-02T16:52:09.455067Z"
    }
   },
   "outputs": [],
   "source": [
    "class ExampleMarkovChainBitSource(MarkovChainBitSource):\n",
    "    def __init__(self):\n",
    "        super().__init__(start_state='A')\n",
    "        self.transitions = {\n",
    "            'A': {0: ('A', 0.99), 1: ('B', 0.01)},\n",
    "            'B': {0: ('A', 0.01), 1: ('B', 0.99)},\n",
    "        }\n",
    "        \n",
    "    def get_transitions(self, state: str) -> Dict[int, Tuple[str, float]]:\n",
    "        return self.transitions[state]"
   ]
  },
  {
   "cell_type": "code",
   "execution_count": 18,
   "id": "b4d62a4d-644c-4f19-8554-b445542a8e0f",
   "metadata": {
    "execution": {
     "iopub.execute_input": "2024-06-02T16:52:09.460179Z",
     "iopub.status.busy": "2024-06-02T16:52:09.459961Z",
     "iopub.status.idle": "2024-06-02T16:52:09.738284Z",
     "shell.execute_reply": "2024-06-02T16:52:09.737569Z",
     "shell.execute_reply.started": "2024-06-02T16:52:09.460166Z"
    }
   },
   "outputs": [
    {
     "name": "stdout",
     "output_type": "stream",
     "text": [
      "FAILED: The bit sequence does not appear to be a sequence of independent fair coin tosses (0/14 passed) ❌\n"
     ]
    }
   ],
   "source": [
    "bit_source = ExampleMarkovChainBitSource()\n",
    "\n",
    "r = ''.join([str(bit_source.next()) for _ in range(N)])\n",
    "run_tests(r)"
   ]
  },
  {
   "cell_type": "code",
   "execution_count": 19,
   "id": "16a49dad-4399-462f-be3c-bb92ba5221f6",
   "metadata": {
    "execution": {
     "iopub.execute_input": "2024-06-02T16:52:09.739026Z",
     "iopub.status.busy": "2024-06-02T16:52:09.738881Z",
     "iopub.status.idle": "2024-06-02T16:52:12.263246Z",
     "shell.execute_reply": "2024-06-02T16:52:12.262654Z",
     "shell.execute_reply.started": "2024-06-02T16:52:09.739011Z"
    }
   },
   "outputs": [
    {
     "name": "stdout",
     "output_type": "stream",
     "text": [
      "FAILED: The bit sequence does not appear to be a sequence of independent fair coin tosses (9/14 passed) ❌\n"
     ]
    }
   ],
   "source": [
    "bit_source = ExampleMarkovChainBitSource()\n",
    "extractor = VonNeumannExtractor(bit_source)\n",
    "\n",
    "r = ''.join([str(extractor.random()) for _ in range(N)])\n",
    "run_tests(r)"
   ]
  },
  {
   "cell_type": "code",
   "execution_count": 20,
   "id": "7c19373e-7946-459a-863b-29b6d1ede7be",
   "metadata": {
    "execution": {
     "iopub.execute_input": "2024-06-02T16:52:12.263929Z",
     "iopub.status.busy": "2024-06-02T16:52:12.263785Z",
     "iopub.status.idle": "2024-06-02T16:52:12.925995Z",
     "shell.execute_reply": "2024-06-02T16:52:12.925525Z",
     "shell.execute_reply.started": "2024-06-02T16:52:12.263915Z"
    }
   },
   "outputs": [
    {
     "name": "stdout",
     "output_type": "stream",
     "text": [
      "FAILED: The bit sequence does not appear to be a sequence of independent fair coin tosses (3/14 passed) ❌\n"
     ]
    }
   ],
   "source": [
    "bit_source = ExampleMarkovChainBitSource()\n",
    "extractor = ParityExtractor(bit_source=bit_source, N=32)\n",
    "\n",
    "r = ''.join([str(extractor.random()) for _ in range(N)])\n",
    "run_tests(r)"
   ]
  },
  {
   "cell_type": "code",
   "execution_count": 21,
   "id": "873265e0-610a-4e68-b000-627dbf713109",
   "metadata": {
    "execution": {
     "iopub.execute_input": "2024-06-02T16:52:12.926717Z",
     "iopub.status.busy": "2024-06-02T16:52:12.926575Z",
     "iopub.status.idle": "2024-06-02T16:52:14.461807Z",
     "shell.execute_reply": "2024-06-02T16:52:14.461230Z",
     "shell.execute_reply.started": "2024-06-02T16:52:12.926704Z"
    }
   },
   "outputs": [
    {
     "name": "stdout",
     "output_type": "stream",
     "text": [
      "PASSED: The bit sequence appears to be a sequence of independent fair coin tosses (13/14 passed) ✅\n"
     ]
    }
   ],
   "source": [
    "bit_source = ExampleMarkovChainBitSource()\n",
    "extractor = BlumExtractor(bit_source)\n",
    "\n",
    "r = ''.join([str(extractor.random()) for _ in range(N)])\n",
    "run_tests(r)"
   ]
  },
  {
   "cell_type": "code",
   "execution_count": null,
   "id": "95d6f403-8444-4a2b-9766-b41392c15beb",
   "metadata": {},
   "outputs": [],
   "source": []
  }
 ],
 "metadata": {
  "kernelspec": {
   "display_name": "Python 3 (ipykernel)",
   "language": "python",
   "name": "python3"
  },
  "language_info": {
   "codemirror_mode": {
    "name": "ipython",
    "version": 3
   },
   "file_extension": ".py",
   "mimetype": "text/x-python",
   "name": "python",
   "nbconvert_exporter": "python",
   "pygments_lexer": "ipython3",
   "version": "3.11.7"
  }
 },
 "nbformat": 4,
 "nbformat_minor": 5
}
